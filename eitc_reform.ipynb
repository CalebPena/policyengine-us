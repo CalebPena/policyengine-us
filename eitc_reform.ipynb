{
 "cells": [
  {
   "cell_type": "code",
   "execution_count": 19,
   "metadata": {},
   "outputs": [],
   "source": [
    "from policyengine_us.model_api import *\n",
    "\n",
    "def create_eitc_winship_reform():\n",
    "    # Compute EITC under filer_earned = tax_unit_head_earned\n",
    "    # Then compute EITC under filer_earned = tax_unit_spouse_earned\n",
    "    # Then set EITC = sum of the two\n",
    "\n",
    "    class original_eitc(Variable):\n",
    "        value_type = float\n",
    "        entity = TaxUnit\n",
    "        definition_period = YEAR\n",
    "        label = \"Original EITC\"\n",
    "        reference = \"https://www.law.cornell.edu/uscode/text/26/32#a\"\n",
    "        unit = USD\n",
    "        defined_for = \"eitc_eligible\"\n",
    "\n",
    "        def formula(tax_unit, period, parameters):\n",
    "            maximum = tax_unit(\"eitc_maximum\", period)\n",
    "            phased_in = tax_unit(\"eitc_phased_in\", period)\n",
    "            reduction = tax_unit(\"eitc_reduction\", period)\n",
    "            limitation = max_(0, maximum - reduction)\n",
    "            return min_(phased_in, limitation)\n",
    "        \n",
    "    class earned_income_tax_credit(Variable):\n",
    "        value_type = float\n",
    "        entity = TaxUnit\n",
    "        definition_period = YEAR\n",
    "        label = \"EITC\"\n",
    "        unit = USD\n",
    "        defined_for = \"eitc_eligible\"\n",
    "\n",
    "        def formula(tax_unit, period, parameters):\n",
    "            person = tax_unit.members\n",
    "            simulation = tax_unit.simulation\n",
    "            agi = tax_unit(\"adjusted_gross_income\", period)\n",
    "            earned_income = person(\"earned\", period)\n",
    "            is_head = person(\"is_tax_unit_head\", period)\n",
    "            is_spouse = person(\"is_tax_unit_spouse\", period)\n",
    "\n",
    "            filer_earned_head_only = tax_unit.sum(earned_income * is_head)\n",
    "            filer_earned_spouse_only = tax_unit.sum(earned_income * is_spouse)\n",
    "\n",
    "            head_only_branch = simulation.get_branch(\"head_only\")\n",
    "            head_only_branch.set_input(\"filer_earned\", period, filer_earned_head_only)\n",
    "            head_only_branch.set_input(\"adjusted_gross_income\", period, filer_earned_head_only)\n",
    "            head_eitc = head_only_branch.calculate(\"original_eitc\", period)\n",
    "\n",
    "            spouse_only_branch = simulation.get_branch(\"spouse_only\")\n",
    "            spouse_only_branch.set_input(\"filer_earned\", period, filer_earned_spouse_only)\n",
    "            spouse_only_branch.set_input(\"adjusted_gross_income\", period, filer_earned_spouse_only)\n",
    "            spouse_eitc = spouse_only_branch.calculate(\"original_eitc\", period)\n",
    "\n",
    "            return (agi < 100_000) * (head_eitc + spouse_eitc)\n",
    "        \n",
    "    class winship_eitc_bonus(Variable):\n",
    "        value_type = float\n",
    "        entity = TaxUnit\n",
    "        label = \"Label\"\n",
    "        unit = USD\n",
    "        documentation = \"Description\"\n",
    "        definition_period = YEAR\n",
    "    \n",
    "        def formula(tax_unit, period, parameters):\n",
    "            return tax_unit(\"earned_income_tax_credit\", period) - tax_unit(\"original_eitc\", period)\n",
    "    \n",
    "    class winship_eitc_reform(Reform):\n",
    "        def apply(self):\n",
    "            self.add_variable(original_eitc)\n",
    "            self.add_variable(winship_eitc_bonus)\n",
    "            self.update_variable(earned_income_tax_credit)\n",
    "    \n",
    "    return winship_eitc_reform"
   ]
  },
  {
   "cell_type": "code",
   "execution_count": 17,
   "metadata": {},
   "outputs": [
    {
     "data": {
      "text/plain": [
       "39961936581.42383"
      ]
     },
     "execution_count": 17,
     "metadata": {},
     "output_type": "execute_result"
    }
   ],
   "source": [
    "from policyengine_us import Microsimulation\n",
    "\n",
    "baseline = Microsimulation()\n",
    "reformed = Microsimulation(reform=create_eitc_winship_reform())\n",
    "\n",
    "reformed.calculate(\"household_net_income\", 2023).sum() - baseline.calculate(\"household_net_income\", 2023).sum()"
   ]
  },
  {
   "cell_type": "code",
   "execution_count": 18,
   "metadata": {},
   "outputs": [
    {
     "data": {
      "text/plain": [
       "39.96193658142383"
      ]
     },
     "execution_count": 18,
     "metadata": {},
     "output_type": "execute_result"
    }
   ],
   "source": [
    "(reformed.calculate(\"household_net_income\", 2023).sum() - baseline.calculate(\"household_net_income\", 2023).sum()) / 1e9"
   ]
  },
  {
   "cell_type": "code",
   "execution_count": 25,
   "metadata": {},
   "outputs": [],
   "source": [
    "from policyengine_us import Simulation\n",
    "\n",
    "simulation = Simulation(\n",
    "    reform=create_eitc_winship_reform(),\n",
    "    situation={\n",
    "        \"people\": {\n",
    "            \"head\": {\n",
    "                \"employment_income\": 10_000\n",
    "            },\n",
    "            \"spouse\": {\n",
    "                \"employment_income\": 30_000\n",
    "            },\n",
    "            \"child\": {\n",
    "                \"age\": 5\n",
    "            },\n",
    "        },\n",
    "        \"tax_units\": {\n",
    "            \"tax_unit\": {\n",
    "                \"members\": [\"head\", \"spouse\", \"child\"]\n",
    "            }\n",
    "        }\n",
    "    }\n",
    ")\n",
    "\n",
    "simulation.trace = True\n",
    "simulation.calculate(\"winship_eitc_bonus\")\n",
    "simulation.tracer.print_computation_log(max_depth=3)"
   ]
  }
 ],
 "metadata": {
  "kernelspec": {
   "display_name": "base",
   "language": "python",
   "name": "python3"
  },
  "language_info": {
   "codemirror_mode": {
    "name": "ipython",
    "version": 3
   },
   "file_extension": ".py",
   "mimetype": "text/x-python",
   "name": "python",
   "nbconvert_exporter": "python",
   "pygments_lexer": "ipython3",
   "version": "3.9.12"
  },
  "orig_nbformat": 4
 },
 "nbformat": 4,
 "nbformat_minor": 2
}
