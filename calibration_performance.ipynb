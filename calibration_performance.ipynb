{
 "cells": [
  {
   "cell_type": "code",
   "execution_count": 10,
   "metadata": {},
   "outputs": [
    {
     "name": "stderr",
     "output_type": "stream",
     "text": [
      "/opt/anaconda3/lib/python3.9/site-packages/plotly/tools.py:460: DeprecationWarning:\n",
      "\n",
      "plotly.tools.make_subplots is deprecated, please use plotly.subplots.make_subplots instead\n",
      "\n"
     ]
    },
    {
     "ename": "Exception",
     "evalue": "The (row, col) pair sent is out of range. Use Figure.print_grid to view the subplot grid. ",
     "output_type": "error",
     "traceback": [
      "\u001b[0;31m---------------------------------------------------------------------------\u001b[0m",
      "\u001b[0;31mIndexError\u001b[0m                                Traceback (most recent call last)",
      "File \u001b[0;32m/opt/anaconda3/lib/python3.9/site-packages/plotly/_subplots.py:1352\u001b[0m, in \u001b[0;36m_set_trace_grid_reference\u001b[0;34m(trace, layout, grid_ref, row, col, secondary_y)\u001b[0m\n\u001b[1;32m   1351\u001b[0m \u001b[39mtry\u001b[39;00m:\n\u001b[0;32m-> 1352\u001b[0m     subplot_refs \u001b[39m=\u001b[39m grid_ref[row \u001b[39m-\u001b[39;49m \u001b[39m1\u001b[39;49m][col \u001b[39m-\u001b[39;49m \u001b[39m1\u001b[39;49m]\n\u001b[1;32m   1353\u001b[0m \u001b[39mexcept\u001b[39;00m \u001b[39mIndexError\u001b[39;00m:\n",
      "\u001b[0;31mIndexError\u001b[0m: list index out of range",
      "\nDuring handling of the above exception, another exception occurred:\n",
      "\u001b[0;31mException\u001b[0m                                 Traceback (most recent call last)",
      "Cell \u001b[0;32mIn[10], line 23\u001b[0m\n\u001b[1;32m     21\u001b[0m fig \u001b[39m=\u001b[39m make_subplots(rows\u001b[39m=\u001b[39mnum_rows, cols\u001b[39m=\u001b[39mnum_cols, subplot_titles\u001b[39m=\u001b[39m[fig\u001b[39m.\u001b[39mlayout\u001b[39m.\u001b[39mtitle\u001b[39m.\u001b[39mtext \u001b[39mfor\u001b[39;00m fig \u001b[39min\u001b[39;00m figs])\n\u001b[1;32m     22\u001b[0m \u001b[39mfor\u001b[39;00m i, figure \u001b[39min\u001b[39;00m \u001b[39menumerate\u001b[39m(figs):\n\u001b[0;32m---> 23\u001b[0m     fig\u001b[39m.\u001b[39;49madd_trace(figure\u001b[39m.\u001b[39;49mdata[\u001b[39m0\u001b[39;49m], row\u001b[39m=\u001b[39;49m\u001b[39m1\u001b[39;49m, col\u001b[39m=\u001b[39;49mi\u001b[39m+\u001b[39;49m\u001b[39m1\u001b[39;49m)\n\u001b[1;32m     25\u001b[0m fig\u001b[39m.\u001b[39mshow()\n",
      "File \u001b[0;32m/opt/anaconda3/lib/python3.9/site-packages/plotly/graph_objs/_figure.py:887\u001b[0m, in \u001b[0;36mFigure.add_trace\u001b[0;34m(self, trace, row, col, secondary_y, exclude_empty_subplots)\u001b[0m\n\u001b[1;32m    812\u001b[0m \u001b[39mdef\u001b[39;00m \u001b[39madd_trace\u001b[39m(\n\u001b[1;32m    813\u001b[0m     \u001b[39mself\u001b[39m, trace, row\u001b[39m=\u001b[39m\u001b[39mNone\u001b[39;00m, col\u001b[39m=\u001b[39m\u001b[39mNone\u001b[39;00m, secondary_y\u001b[39m=\u001b[39m\u001b[39mNone\u001b[39;00m, exclude_empty_subplots\u001b[39m=\u001b[39m\u001b[39mFalse\u001b[39;00m\n\u001b[1;32m    814\u001b[0m ) \u001b[39m-\u001b[39m\u001b[39m>\u001b[39m \u001b[39m\"\u001b[39m\u001b[39mFigure\u001b[39m\u001b[39m\"\u001b[39m:\n\u001b[1;32m    815\u001b[0m     \u001b[39m\"\"\"\u001b[39;00m\n\u001b[1;32m    816\u001b[0m \n\u001b[1;32m    817\u001b[0m \u001b[39m    Add a trace to the figure\u001b[39;00m\n\u001b[0;32m   (...)\u001b[0m\n\u001b[1;32m    885\u001b[0m \n\u001b[1;32m    886\u001b[0m \u001b[39m    \"\"\"\u001b[39;00m\n\u001b[0;32m--> 887\u001b[0m     \u001b[39mreturn\u001b[39;00m \u001b[39msuper\u001b[39;49m(Figure, \u001b[39mself\u001b[39;49m)\u001b[39m.\u001b[39;49madd_trace(\n\u001b[1;32m    888\u001b[0m         trace, row, col, secondary_y, exclude_empty_subplots\n\u001b[1;32m    889\u001b[0m     )\n",
      "File \u001b[0;32m/opt/anaconda3/lib/python3.9/site-packages/plotly/basedatatypes.py:2097\u001b[0m, in \u001b[0;36mBaseFigure.add_trace\u001b[0;34m(self, trace, row, col, secondary_y, exclude_empty_subplots)\u001b[0m\n\u001b[1;32m   2088\u001b[0m         \u001b[39mself\u001b[39m\u001b[39m.\u001b[39madd_trace(\n\u001b[1;32m   2089\u001b[0m             trace,\n\u001b[1;32m   2090\u001b[0m             row\u001b[39m=\u001b[39mr,\n\u001b[0;32m   (...)\u001b[0m\n\u001b[1;32m   2093\u001b[0m             exclude_empty_subplots\u001b[39m=\u001b[39mexclude_empty_subplots,\n\u001b[1;32m   2094\u001b[0m         )\n\u001b[1;32m   2095\u001b[0m     \u001b[39mreturn\u001b[39;00m \u001b[39mself\u001b[39m\n\u001b[0;32m-> 2097\u001b[0m \u001b[39mreturn\u001b[39;00m \u001b[39mself\u001b[39;49m\u001b[39m.\u001b[39;49madd_traces(\n\u001b[1;32m   2098\u001b[0m     data\u001b[39m=\u001b[39;49m[trace],\n\u001b[1;32m   2099\u001b[0m     rows\u001b[39m=\u001b[39;49m[row] \u001b[39mif\u001b[39;49;00m row \u001b[39mis\u001b[39;49;00m \u001b[39mnot\u001b[39;49;00m \u001b[39mNone\u001b[39;49;00m \u001b[39melse\u001b[39;49;00m \u001b[39mNone\u001b[39;49;00m,\n\u001b[1;32m   2100\u001b[0m     cols\u001b[39m=\u001b[39;49m[col] \u001b[39mif\u001b[39;49;00m col \u001b[39mis\u001b[39;49;00m \u001b[39mnot\u001b[39;49;00m \u001b[39mNone\u001b[39;49;00m \u001b[39melse\u001b[39;49;00m \u001b[39mNone\u001b[39;49;00m,\n\u001b[1;32m   2101\u001b[0m     secondary_ys\u001b[39m=\u001b[39;49m[secondary_y] \u001b[39mif\u001b[39;49;00m secondary_y \u001b[39mis\u001b[39;49;00m \u001b[39mnot\u001b[39;49;00m \u001b[39mNone\u001b[39;49;00m \u001b[39melse\u001b[39;49;00m \u001b[39mNone\u001b[39;49;00m,\n\u001b[1;32m   2102\u001b[0m     exclude_empty_subplots\u001b[39m=\u001b[39;49mexclude_empty_subplots,\n\u001b[1;32m   2103\u001b[0m )\n",
      "File \u001b[0;32m/opt/anaconda3/lib/python3.9/site-packages/plotly/graph_objs/_figure.py:967\u001b[0m, in \u001b[0;36mFigure.add_traces\u001b[0;34m(self, data, rows, cols, secondary_ys, exclude_empty_subplots)\u001b[0m\n\u001b[1;32m    891\u001b[0m \u001b[39mdef\u001b[39;00m \u001b[39madd_traces\u001b[39m(\n\u001b[1;32m    892\u001b[0m     \u001b[39mself\u001b[39m,\n\u001b[1;32m    893\u001b[0m     data,\n\u001b[0;32m   (...)\u001b[0m\n\u001b[1;32m    897\u001b[0m     exclude_empty_subplots\u001b[39m=\u001b[39m\u001b[39mFalse\u001b[39;00m,\n\u001b[1;32m    898\u001b[0m ) \u001b[39m-\u001b[39m\u001b[39m>\u001b[39m \u001b[39m\"\u001b[39m\u001b[39mFigure\u001b[39m\u001b[39m\"\u001b[39m:\n\u001b[1;32m    899\u001b[0m     \u001b[39m\"\"\"\u001b[39;00m\n\u001b[1;32m    900\u001b[0m \n\u001b[1;32m    901\u001b[0m \u001b[39m    Add traces to the figure\u001b[39;00m\n\u001b[0;32m   (...)\u001b[0m\n\u001b[1;32m    965\u001b[0m \n\u001b[1;32m    966\u001b[0m \u001b[39m    \"\"\"\u001b[39;00m\n\u001b[0;32m--> 967\u001b[0m     \u001b[39mreturn\u001b[39;00m \u001b[39msuper\u001b[39;49m(Figure, \u001b[39mself\u001b[39;49m)\u001b[39m.\u001b[39;49madd_traces(\n\u001b[1;32m    968\u001b[0m         data, rows, cols, secondary_ys, exclude_empty_subplots\n\u001b[1;32m    969\u001b[0m     )\n",
      "File \u001b[0;32m/opt/anaconda3/lib/python3.9/site-packages/plotly/basedatatypes.py:2227\u001b[0m, in \u001b[0;36mBaseFigure.add_traces\u001b[0;34m(self, data, rows, cols, secondary_ys, exclude_empty_subplots)\u001b[0m\n\u001b[1;32m   2225\u001b[0m \u001b[39mif\u001b[39;00m rows \u001b[39mis\u001b[39;00m \u001b[39mnot\u001b[39;00m \u001b[39mNone\u001b[39;00m:\n\u001b[1;32m   2226\u001b[0m     \u001b[39mfor\u001b[39;00m trace, row, col, secondary_y \u001b[39min\u001b[39;00m \u001b[39mzip\u001b[39m(data, rows, cols, secondary_ys):\n\u001b[0;32m-> 2227\u001b[0m         \u001b[39mself\u001b[39;49m\u001b[39m.\u001b[39;49m_set_trace_grid_position(trace, row, col, secondary_y)\n\u001b[1;32m   2229\u001b[0m \u001b[39mif\u001b[39;00m exclude_empty_subplots:\n\u001b[1;32m   2230\u001b[0m     data \u001b[39m=\u001b[39m \u001b[39mlist\u001b[39m(\n\u001b[1;32m   2231\u001b[0m         \u001b[39mfilter\u001b[39m(\n\u001b[1;32m   2232\u001b[0m             \u001b[39mlambda\u001b[39;00m trace: \u001b[39mself\u001b[39m\u001b[39m.\u001b[39m_subplot_not_empty(\n\u001b[0;32m   (...)\u001b[0m\n\u001b[1;32m   2236\u001b[0m         )\n\u001b[1;32m   2237\u001b[0m     )\n",
      "File \u001b[0;32m/opt/anaconda3/lib/python3.9/site-packages/plotly/basedatatypes.py:2319\u001b[0m, in \u001b[0;36mBaseFigure._set_trace_grid_position\u001b[0;34m(self, trace, row, col, secondary_y)\u001b[0m\n\u001b[1;32m   2316\u001b[0m \u001b[39mfrom\u001b[39;00m \u001b[39mplotly\u001b[39;00m\u001b[39m.\u001b[39;00m\u001b[39m_subplots\u001b[39;00m \u001b[39mimport\u001b[39;00m _set_trace_grid_reference\n\u001b[1;32m   2318\u001b[0m grid_ref \u001b[39m=\u001b[39m \u001b[39mself\u001b[39m\u001b[39m.\u001b[39m_validate_get_grid_ref()\n\u001b[0;32m-> 2319\u001b[0m \u001b[39mreturn\u001b[39;00m _set_trace_grid_reference(\n\u001b[1;32m   2320\u001b[0m     trace, \u001b[39mself\u001b[39;49m\u001b[39m.\u001b[39;49mlayout, grid_ref, row, col, secondary_y\n\u001b[1;32m   2321\u001b[0m )\n",
      "File \u001b[0;32m/opt/anaconda3/lib/python3.9/site-packages/plotly/_subplots.py:1354\u001b[0m, in \u001b[0;36m_set_trace_grid_reference\u001b[0;34m(trace, layout, grid_ref, row, col, secondary_y)\u001b[0m\n\u001b[1;32m   1352\u001b[0m         subplot_refs \u001b[39m=\u001b[39m grid_ref[row \u001b[39m-\u001b[39m \u001b[39m1\u001b[39m][col \u001b[39m-\u001b[39m \u001b[39m1\u001b[39m]\n\u001b[1;32m   1353\u001b[0m     \u001b[39mexcept\u001b[39;00m \u001b[39mIndexError\u001b[39;00m:\n\u001b[0;32m-> 1354\u001b[0m         \u001b[39mraise\u001b[39;00m \u001b[39mException\u001b[39;00m(\n\u001b[1;32m   1355\u001b[0m             \u001b[39m\"\u001b[39m\u001b[39mThe (row, col) pair sent is out of \u001b[39m\u001b[39m\"\u001b[39m\n\u001b[1;32m   1356\u001b[0m             \u001b[39m\"\u001b[39m\u001b[39mrange. Use Figure.print_grid to view the \u001b[39m\u001b[39m\"\u001b[39m\n\u001b[1;32m   1357\u001b[0m             \u001b[39m\"\u001b[39m\u001b[39msubplot grid. \u001b[39m\u001b[39m\"\u001b[39m\n\u001b[1;32m   1358\u001b[0m         )\n\u001b[1;32m   1360\u001b[0m     \u001b[39mif\u001b[39;00m \u001b[39mnot\u001b[39;00m subplot_refs:\n\u001b[1;32m   1361\u001b[0m         \u001b[39mraise\u001b[39;00m \u001b[39mValueError\u001b[39;00m(\n\u001b[1;32m   1362\u001b[0m             \u001b[39m\"\"\"\u001b[39;00m\n\u001b[1;32m   1363\u001b[0m \u001b[39mNo subplot specified at grid position ({row}, {col})\"\"\"\u001b[39;00m\u001b[39m.\u001b[39mformat(\n\u001b[1;32m   1364\u001b[0m                 row\u001b[39m=\u001b[39mrow, col\u001b[39m=\u001b[39mcol\n\u001b[1;32m   1365\u001b[0m             )\n\u001b[1;32m   1366\u001b[0m         )\n",
      "\u001b[0;31mException\u001b[0m: The (row, col) pair sent is out of range. Use Figure.print_grid to view the subplot grid. "
     ]
    }
   ],
   "source": [
    "import pandas as pd\n",
    "\n",
    "df = pd.read_csv(\"/Users/nikhil/policyengine/policyengine-us/policyengine_us/data/datasets/cps/logs/calibration_log.csv.gz\", compression=\"gzip\")\n",
    "import plotly.express as px\n",
    "import plotly.graph_objects as go\n",
    "import numpy as np\n",
    "\n",
    "figs = []\n",
    "for metric in df.name.unique():\n",
    "    if df[df.name == metric].y_true.sum() == 0:\n",
    "        continue\n",
    "    fig = px.scatter(df[df.name == metric], x=\"epoch\", y=[\"y_true\", \"y_pred\"]).update_layout(title=metric)\n",
    "    figs.append(fig)\n",
    "\n",
    "# Show in one combined figure in a grid with plotly subplots\n",
    "\n",
    "from plotly.tools import make_subplots\n",
    "\n",
    "num_rows = 10\n",
    "num_cols = 10\n",
    "fig = make_subplots(rows=num_rows, cols=num_cols, subplot_titles=[fig.layout.title.text for fig in figs])\n",
    "for i, figure in enumerate(figs):\n",
    "    fig.add_trace(figure.data[0], row=1, col=i+1)\n",
    "\n",
    "fig.show()\n"
   ]
  }
 ],
 "metadata": {
  "kernelspec": {
   "display_name": "base",
   "language": "python",
   "name": "python3"
  },
  "language_info": {
   "codemirror_mode": {
    "name": "ipython",
    "version": 3
   },
   "file_extension": ".py",
   "mimetype": "text/x-python",
   "name": "python",
   "nbconvert_exporter": "python",
   "pygments_lexer": "ipython3",
   "version": "3.9.12"
  },
  "orig_nbformat": 4
 },
 "nbformat": 4,
 "nbformat_minor": 2
}
